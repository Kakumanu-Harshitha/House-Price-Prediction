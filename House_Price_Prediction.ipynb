{
  "cells": [
    {
      "cell_type": "markdown",
      "metadata": {
        "id": "view-in-github",
        "colab_type": "text"
      },
      "source": [
        "<a href=\"https://colab.research.google.com/github/Kakumanu-Harshitha/House-Price-Prediction/blob/main/House_Price_Prediction.ipynb\" target=\"_parent\"><img src=\"https://colab.research.google.com/assets/colab-badge.svg\" alt=\"Open In Colab\"/></a>"
      ]
    },
    {
      "cell_type": "markdown",
      "metadata": {
        "id": "NQhRXApFQHIJ"
      },
      "source": [
        "# **House price prediction**\n",
        "\n"
      ]
    },
    {
      "cell_type": "markdown",
      "metadata": {
        "id": "4LzPsJtSQlAC"
      },
      "source": [
        "**model description**\n"
      ]
    },
    {
      "cell_type": "markdown",
      "metadata": {
        "id": "dvHK14a0SQeq"
      },
      "source": [
        "\n",
        "This model is about predicting the prices of the house according to the\n",
        "required featers like no.of bed rooms, bathrooms,stories ,whether the house is located at mainroad or not,guest room facility etc..This model is use ful for real esate field.This data set contains 13 features.This model made customiers easy to predict the prices.\n"
      ]
    },
    {
      "cell_type": "markdown",
      "metadata": {
        "id": "FxKYHbTgV8bU"
      },
      "source": [
        "#**steps to build the model**"
      ]
    },
    {
      "cell_type": "markdown",
      "metadata": {
        "id": "tdbh7oRBWZ2G"
      },
      "source": [
        "\n",
        "\n",
        "1.  Importing libraries\n",
        "\n",
        "2.   Importing dataset\n",
        "\n",
        "3.   Data Preprocessing\n",
        "\n",
        "          *   Find and fill the missing value\n",
        "          *   label encoding\n",
        "          *   splitting the data into training and test data\n",
        "          *   Feature scaling\n",
        "4.  Select the model\n",
        "\n",
        "\n",
        "\n",
        "5.  Build the model\n",
        "\n",
        "\n",
        "6.   Evaluate the model\n",
        "\n",
        "\n",
        "7.   Predict the results\n",
        "\n",
        "\n",
        "8.   Visualize the results\n",
        "\n"
      ]
    },
    {
      "cell_type": "markdown",
      "metadata": {
        "id": "_NHWBsQVXQ5_"
      },
      "source": [
        "# 1.Importing Libraries\n",
        "\n"
      ]
    },
    {
      "cell_type": "code",
      "execution_count": null,
      "metadata": {
        "id": "IdQNRzhzXfDt"
      },
      "outputs": [],
      "source": [
        "import numpy as np\n",
        "import pandas as pd\n",
        "import matplotlib.pyplot as plt"
      ]
    },
    {
      "cell_type": "markdown",
      "metadata": {
        "id": "9nOs5bNSmNpp"
      },
      "source": [
        "# 2. Importing dataset\n"
      ]
    },
    {
      "cell_type": "markdown",
      "metadata": {
        "id": "g-BOv4lXmb4D"
      },
      "source": [
        "Here ,I am importing dataset from Kaggle from the kaggle.we can import from where ever we want.\n",
        "# REFERNCE:\n",
        "https://www.kaggle.com/datasets/yasserh/housing-prices-dataset Let's split our data into two parts. Dependent variable prices as 'y' and independent variables as 'x'.\n"
      ]
    },
    {
      "cell_type": "code",
      "execution_count": null,
      "metadata": {
        "id": "v2KgW47Smls9"
      },
      "outputs": [],
      "source": [
        "dataset=pd.read_csv(\"Housing.csv\")"
      ]
    },
    {
      "cell_type": "code",
      "execution_count": null,
      "metadata": {
        "colab": {
          "base_uri": "https://localhost:8080/",
          "height": 226
        },
        "id": "FOJcIk0UmzF-",
        "outputId": "5fcdb365-fe56-447b-9ca9-ff8f19446b1e"
      },
      "outputs": [
        {
          "output_type": "execute_result",
          "data": {
            "text/plain": [
              "     price  area  bedrooms  bathrooms  stories mainroad guestroom basement  \\\n",
              "0  4410000  4900         2          1        2      yes        no      yes   \n",
              "1  1750000  3850         3          1        2      yes        no       no   \n",
              "2  5110000  6100         3          1        1      yes        no      yes   \n",
              "3  3780000  2856         3          1        3      yes        no       no   \n",
              "4  5810000  5828         4          1        4      yes       yes       no   \n",
              "\n",
              "  hotwaterheating airconditioning  parking prefarea furnishingstatus  \n",
              "0              no              no        0       no   semi-furnished  \n",
              "1              no              no        0       no      unfurnished  \n",
              "2              no             yes        0      yes   semi-furnished  \n",
              "3              no              no        0      yes        furnished  \n",
              "4              no              no        0       no   semi-furnished  "
            ],
            "text/html": [
              "\n",
              "  <div id=\"df-2d04d759-c121-4e57-b51c-d68a52d73fa1\" class=\"colab-df-container\">\n",
              "    <div>\n",
              "<style scoped>\n",
              "    .dataframe tbody tr th:only-of-type {\n",
              "        vertical-align: middle;\n",
              "    }\n",
              "\n",
              "    .dataframe tbody tr th {\n",
              "        vertical-align: top;\n",
              "    }\n",
              "\n",
              "    .dataframe thead th {\n",
              "        text-align: right;\n",
              "    }\n",
              "</style>\n",
              "<table border=\"1\" class=\"dataframe\">\n",
              "  <thead>\n",
              "    <tr style=\"text-align: right;\">\n",
              "      <th></th>\n",
              "      <th>price</th>\n",
              "      <th>area</th>\n",
              "      <th>bedrooms</th>\n",
              "      <th>bathrooms</th>\n",
              "      <th>stories</th>\n",
              "      <th>mainroad</th>\n",
              "      <th>guestroom</th>\n",
              "      <th>basement</th>\n",
              "      <th>hotwaterheating</th>\n",
              "      <th>airconditioning</th>\n",
              "      <th>parking</th>\n",
              "      <th>prefarea</th>\n",
              "      <th>furnishingstatus</th>\n",
              "    </tr>\n",
              "  </thead>\n",
              "  <tbody>\n",
              "    <tr>\n",
              "      <th>0</th>\n",
              "      <td>4410000</td>\n",
              "      <td>4900</td>\n",
              "      <td>2</td>\n",
              "      <td>1</td>\n",
              "      <td>2</td>\n",
              "      <td>yes</td>\n",
              "      <td>no</td>\n",
              "      <td>yes</td>\n",
              "      <td>no</td>\n",
              "      <td>no</td>\n",
              "      <td>0</td>\n",
              "      <td>no</td>\n",
              "      <td>semi-furnished</td>\n",
              "    </tr>\n",
              "    <tr>\n",
              "      <th>1</th>\n",
              "      <td>1750000</td>\n",
              "      <td>3850</td>\n",
              "      <td>3</td>\n",
              "      <td>1</td>\n",
              "      <td>2</td>\n",
              "      <td>yes</td>\n",
              "      <td>no</td>\n",
              "      <td>no</td>\n",
              "      <td>no</td>\n",
              "      <td>no</td>\n",
              "      <td>0</td>\n",
              "      <td>no</td>\n",
              "      <td>unfurnished</td>\n",
              "    </tr>\n",
              "    <tr>\n",
              "      <th>2</th>\n",
              "      <td>5110000</td>\n",
              "      <td>6100</td>\n",
              "      <td>3</td>\n",
              "      <td>1</td>\n",
              "      <td>1</td>\n",
              "      <td>yes</td>\n",
              "      <td>no</td>\n",
              "      <td>yes</td>\n",
              "      <td>no</td>\n",
              "      <td>yes</td>\n",
              "      <td>0</td>\n",
              "      <td>yes</td>\n",
              "      <td>semi-furnished</td>\n",
              "    </tr>\n",
              "    <tr>\n",
              "      <th>3</th>\n",
              "      <td>3780000</td>\n",
              "      <td>2856</td>\n",
              "      <td>3</td>\n",
              "      <td>1</td>\n",
              "      <td>3</td>\n",
              "      <td>yes</td>\n",
              "      <td>no</td>\n",
              "      <td>no</td>\n",
              "      <td>no</td>\n",
              "      <td>no</td>\n",
              "      <td>0</td>\n",
              "      <td>yes</td>\n",
              "      <td>furnished</td>\n",
              "    </tr>\n",
              "    <tr>\n",
              "      <th>4</th>\n",
              "      <td>5810000</td>\n",
              "      <td>5828</td>\n",
              "      <td>4</td>\n",
              "      <td>1</td>\n",
              "      <td>4</td>\n",
              "      <td>yes</td>\n",
              "      <td>yes</td>\n",
              "      <td>no</td>\n",
              "      <td>no</td>\n",
              "      <td>no</td>\n",
              "      <td>0</td>\n",
              "      <td>no</td>\n",
              "      <td>semi-furnished</td>\n",
              "    </tr>\n",
              "  </tbody>\n",
              "</table>\n",
              "</div>\n",
              "    <div class=\"colab-df-buttons\">\n",
              "\n",
              "  <div class=\"colab-df-container\">\n",
              "    <button class=\"colab-df-convert\" onclick=\"convertToInteractive('df-2d04d759-c121-4e57-b51c-d68a52d73fa1')\"\n",
              "            title=\"Convert this dataframe to an interactive table.\"\n",
              "            style=\"display:none;\">\n",
              "\n",
              "  <svg xmlns=\"http://www.w3.org/2000/svg\" height=\"24px\" viewBox=\"0 -960 960 960\">\n",
              "    <path d=\"M120-120v-720h720v720H120Zm60-500h600v-160H180v160Zm220 220h160v-160H400v160Zm0 220h160v-160H400v160ZM180-400h160v-160H180v160Zm440 0h160v-160H620v160ZM180-180h160v-160H180v160Zm440 0h160v-160H620v160Z\"/>\n",
              "  </svg>\n",
              "    </button>\n",
              "\n",
              "  <style>\n",
              "    .colab-df-container {\n",
              "      display:flex;\n",
              "      gap: 12px;\n",
              "    }\n",
              "\n",
              "    .colab-df-convert {\n",
              "      background-color: #E8F0FE;\n",
              "      border: none;\n",
              "      border-radius: 50%;\n",
              "      cursor: pointer;\n",
              "      display: none;\n",
              "      fill: #1967D2;\n",
              "      height: 32px;\n",
              "      padding: 0 0 0 0;\n",
              "      width: 32px;\n",
              "    }\n",
              "\n",
              "    .colab-df-convert:hover {\n",
              "      background-color: #E2EBFA;\n",
              "      box-shadow: 0px 1px 2px rgba(60, 64, 67, 0.3), 0px 1px 3px 1px rgba(60, 64, 67, 0.15);\n",
              "      fill: #174EA6;\n",
              "    }\n",
              "\n",
              "    .colab-df-buttons div {\n",
              "      margin-bottom: 4px;\n",
              "    }\n",
              "\n",
              "    [theme=dark] .colab-df-convert {\n",
              "      background-color: #3B4455;\n",
              "      fill: #D2E3FC;\n",
              "    }\n",
              "\n",
              "    [theme=dark] .colab-df-convert:hover {\n",
              "      background-color: #434B5C;\n",
              "      box-shadow: 0px 1px 3px 1px rgba(0, 0, 0, 0.15);\n",
              "      filter: drop-shadow(0px 1px 2px rgba(0, 0, 0, 0.3));\n",
              "      fill: #FFFFFF;\n",
              "    }\n",
              "  </style>\n",
              "\n",
              "    <script>\n",
              "      const buttonEl =\n",
              "        document.querySelector('#df-2d04d759-c121-4e57-b51c-d68a52d73fa1 button.colab-df-convert');\n",
              "      buttonEl.style.display =\n",
              "        google.colab.kernel.accessAllowed ? 'block' : 'none';\n",
              "\n",
              "      async function convertToInteractive(key) {\n",
              "        const element = document.querySelector('#df-2d04d759-c121-4e57-b51c-d68a52d73fa1');\n",
              "        const dataTable =\n",
              "          await google.colab.kernel.invokeFunction('convertToInteractive',\n",
              "                                                    [key], {});\n",
              "        if (!dataTable) return;\n",
              "\n",
              "        const docLinkHtml = 'Like what you see? Visit the ' +\n",
              "          '<a target=\"_blank\" href=https://colab.research.google.com/notebooks/data_table.ipynb>data table notebook</a>'\n",
              "          + ' to learn more about interactive tables.';\n",
              "        element.innerHTML = '';\n",
              "        dataTable['output_type'] = 'display_data';\n",
              "        await google.colab.output.renderOutput(dataTable, element);\n",
              "        const docLink = document.createElement('div');\n",
              "        docLink.innerHTML = docLinkHtml;\n",
              "        element.appendChild(docLink);\n",
              "      }\n",
              "    </script>\n",
              "  </div>\n",
              "\n",
              "\n",
              "<div id=\"df-14b4806d-b38e-4085-8397-f3dad0732a76\">\n",
              "  <button class=\"colab-df-quickchart\" onclick=\"quickchart('df-14b4806d-b38e-4085-8397-f3dad0732a76')\"\n",
              "            title=\"Suggest charts\"\n",
              "            style=\"display:none;\">\n",
              "\n",
              "<svg xmlns=\"http://www.w3.org/2000/svg\" height=\"24px\"viewBox=\"0 0 24 24\"\n",
              "     width=\"24px\">\n",
              "    <g>\n",
              "        <path d=\"M19 3H5c-1.1 0-2 .9-2 2v14c0 1.1.9 2 2 2h14c1.1 0 2-.9 2-2V5c0-1.1-.9-2-2-2zM9 17H7v-7h2v7zm4 0h-2V7h2v10zm4 0h-2v-4h2v4z\"/>\n",
              "    </g>\n",
              "</svg>\n",
              "  </button>\n",
              "\n",
              "<style>\n",
              "  .colab-df-quickchart {\n",
              "      --bg-color: #E8F0FE;\n",
              "      --fill-color: #1967D2;\n",
              "      --hover-bg-color: #E2EBFA;\n",
              "      --hover-fill-color: #174EA6;\n",
              "      --disabled-fill-color: #AAA;\n",
              "      --disabled-bg-color: #DDD;\n",
              "  }\n",
              "\n",
              "  [theme=dark] .colab-df-quickchart {\n",
              "      --bg-color: #3B4455;\n",
              "      --fill-color: #D2E3FC;\n",
              "      --hover-bg-color: #434B5C;\n",
              "      --hover-fill-color: #FFFFFF;\n",
              "      --disabled-bg-color: #3B4455;\n",
              "      --disabled-fill-color: #666;\n",
              "  }\n",
              "\n",
              "  .colab-df-quickchart {\n",
              "    background-color: var(--bg-color);\n",
              "    border: none;\n",
              "    border-radius: 50%;\n",
              "    cursor: pointer;\n",
              "    display: none;\n",
              "    fill: var(--fill-color);\n",
              "    height: 32px;\n",
              "    padding: 0;\n",
              "    width: 32px;\n",
              "  }\n",
              "\n",
              "  .colab-df-quickchart:hover {\n",
              "    background-color: var(--hover-bg-color);\n",
              "    box-shadow: 0 1px 2px rgba(60, 64, 67, 0.3), 0 1px 3px 1px rgba(60, 64, 67, 0.15);\n",
              "    fill: var(--button-hover-fill-color);\n",
              "  }\n",
              "\n",
              "  .colab-df-quickchart-complete:disabled,\n",
              "  .colab-df-quickchart-complete:disabled:hover {\n",
              "    background-color: var(--disabled-bg-color);\n",
              "    fill: var(--disabled-fill-color);\n",
              "    box-shadow: none;\n",
              "  }\n",
              "\n",
              "  .colab-df-spinner {\n",
              "    border: 2px solid var(--fill-color);\n",
              "    border-color: transparent;\n",
              "    border-bottom-color: var(--fill-color);\n",
              "    animation:\n",
              "      spin 1s steps(1) infinite;\n",
              "  }\n",
              "\n",
              "  @keyframes spin {\n",
              "    0% {\n",
              "      border-color: transparent;\n",
              "      border-bottom-color: var(--fill-color);\n",
              "      border-left-color: var(--fill-color);\n",
              "    }\n",
              "    20% {\n",
              "      border-color: transparent;\n",
              "      border-left-color: var(--fill-color);\n",
              "      border-top-color: var(--fill-color);\n",
              "    }\n",
              "    30% {\n",
              "      border-color: transparent;\n",
              "      border-left-color: var(--fill-color);\n",
              "      border-top-color: var(--fill-color);\n",
              "      border-right-color: var(--fill-color);\n",
              "    }\n",
              "    40% {\n",
              "      border-color: transparent;\n",
              "      border-right-color: var(--fill-color);\n",
              "      border-top-color: var(--fill-color);\n",
              "    }\n",
              "    60% {\n",
              "      border-color: transparent;\n",
              "      border-right-color: var(--fill-color);\n",
              "    }\n",
              "    80% {\n",
              "      border-color: transparent;\n",
              "      border-right-color: var(--fill-color);\n",
              "      border-bottom-color: var(--fill-color);\n",
              "    }\n",
              "    90% {\n",
              "      border-color: transparent;\n",
              "      border-bottom-color: var(--fill-color);\n",
              "    }\n",
              "  }\n",
              "</style>\n",
              "\n",
              "  <script>\n",
              "    async function quickchart(key) {\n",
              "      const quickchartButtonEl =\n",
              "        document.querySelector('#' + key + ' button');\n",
              "      quickchartButtonEl.disabled = true;  // To prevent multiple clicks.\n",
              "      quickchartButtonEl.classList.add('colab-df-spinner');\n",
              "      try {\n",
              "        const charts = await google.colab.kernel.invokeFunction(\n",
              "            'suggestCharts', [key], {});\n",
              "      } catch (error) {\n",
              "        console.error('Error during call to suggestCharts:', error);\n",
              "      }\n",
              "      quickchartButtonEl.classList.remove('colab-df-spinner');\n",
              "      quickchartButtonEl.classList.add('colab-df-quickchart-complete');\n",
              "    }\n",
              "    (() => {\n",
              "      let quickchartButtonEl =\n",
              "        document.querySelector('#df-14b4806d-b38e-4085-8397-f3dad0732a76 button');\n",
              "      quickchartButtonEl.style.display =\n",
              "        google.colab.kernel.accessAllowed ? 'block' : 'none';\n",
              "    })();\n",
              "  </script>\n",
              "</div>\n",
              "\n",
              "    </div>\n",
              "  </div>\n"
            ],
            "application/vnd.google.colaboratory.intrinsic+json": {
              "type": "dataframe",
              "variable_name": "dataset",
              "summary": "{\n  \"name\": \"dataset\",\n  \"rows\": 545,\n  \"fields\": [\n    {\n      \"column\": \"price\",\n      \"properties\": {\n        \"dtype\": \"number\",\n        \"std\": 1870439,\n        \"min\": 1750000,\n        \"max\": 13300000,\n        \"num_unique_values\": 219,\n        \"samples\": [\n          2975000,\n          4235000,\n          4865000\n        ],\n        \"semantic_type\": \"\",\n        \"description\": \"\"\n      }\n    },\n    {\n      \"column\": \"area\",\n      \"properties\": {\n        \"dtype\": \"number\",\n        \"std\": 2170,\n        \"min\": 1650,\n        \"max\": 16200,\n        \"num_unique_values\": 284,\n        \"samples\": [\n          8100,\n          3635,\n          5360\n        ],\n        \"semantic_type\": \"\",\n        \"description\": \"\"\n      }\n    },\n    {\n      \"column\": \"bedrooms\",\n      \"properties\": {\n        \"dtype\": \"number\",\n        \"std\": 0,\n        \"min\": 1,\n        \"max\": 6,\n        \"num_unique_values\": 6,\n        \"samples\": [\n          2,\n          3,\n          6\n        ],\n        \"semantic_type\": \"\",\n        \"description\": \"\"\n      }\n    },\n    {\n      \"column\": \"bathrooms\",\n      \"properties\": {\n        \"dtype\": \"number\",\n        \"std\": 0,\n        \"min\": 1,\n        \"max\": 4,\n        \"num_unique_values\": 4,\n        \"samples\": [\n          2,\n          4,\n          1\n        ],\n        \"semantic_type\": \"\",\n        \"description\": \"\"\n      }\n    },\n    {\n      \"column\": \"stories\",\n      \"properties\": {\n        \"dtype\": \"number\",\n        \"std\": 0,\n        \"min\": 1,\n        \"max\": 4,\n        \"num_unique_values\": 4,\n        \"samples\": [\n          1,\n          4,\n          2\n        ],\n        \"semantic_type\": \"\",\n        \"description\": \"\"\n      }\n    },\n    {\n      \"column\": \"mainroad\",\n      \"properties\": {\n        \"dtype\": \"category\",\n        \"num_unique_values\": 2,\n        \"samples\": [\n          \"no\",\n          \"yes\"\n        ],\n        \"semantic_type\": \"\",\n        \"description\": \"\"\n      }\n    },\n    {\n      \"column\": \"guestroom\",\n      \"properties\": {\n        \"dtype\": \"category\",\n        \"num_unique_values\": 2,\n        \"samples\": [\n          \"yes\",\n          \"no\"\n        ],\n        \"semantic_type\": \"\",\n        \"description\": \"\"\n      }\n    },\n    {\n      \"column\": \"basement\",\n      \"properties\": {\n        \"dtype\": \"category\",\n        \"num_unique_values\": 2,\n        \"samples\": [\n          \"no\",\n          \"yes\"\n        ],\n        \"semantic_type\": \"\",\n        \"description\": \"\"\n      }\n    },\n    {\n      \"column\": \"hotwaterheating\",\n      \"properties\": {\n        \"dtype\": \"category\",\n        \"num_unique_values\": 2,\n        \"samples\": [\n          \"yes\",\n          \"no\"\n        ],\n        \"semantic_type\": \"\",\n        \"description\": \"\"\n      }\n    },\n    {\n      \"column\": \"airconditioning\",\n      \"properties\": {\n        \"dtype\": \"category\",\n        \"num_unique_values\": 2,\n        \"samples\": [\n          \"yes\",\n          \"no\"\n        ],\n        \"semantic_type\": \"\",\n        \"description\": \"\"\n      }\n    },\n    {\n      \"column\": \"parking\",\n      \"properties\": {\n        \"dtype\": \"number\",\n        \"std\": 0,\n        \"min\": 0,\n        \"max\": 3,\n        \"num_unique_values\": 4,\n        \"samples\": [\n          2,\n          1\n        ],\n        \"semantic_type\": \"\",\n        \"description\": \"\"\n      }\n    },\n    {\n      \"column\": \"prefarea\",\n      \"properties\": {\n        \"dtype\": \"category\",\n        \"num_unique_values\": 2,\n        \"samples\": [\n          \"yes\",\n          \"no\"\n        ],\n        \"semantic_type\": \"\",\n        \"description\": \"\"\n      }\n    },\n    {\n      \"column\": \"furnishingstatus\",\n      \"properties\": {\n        \"dtype\": \"category\",\n        \"num_unique_values\": 3,\n        \"samples\": [\n          \"semi-furnished\",\n          \"unfurnished\"\n        ],\n        \"semantic_type\": \"\",\n        \"description\": \"\"\n      }\n    }\n  ]\n}"
            }
          },
          "metadata": {},
          "execution_count": 3
        }
      ],
      "source": [
        "x=dataset.iloc[:,1:].values\n",
        "y=dataset.iloc[:,0].values\n",
        "dataset.head()\n"
      ]
    },
    {
      "cell_type": "markdown",
      "source": [
        "we can visualize and understand the relations among features.But it will not be helpfull to the predict the data.It just help us to become familar with data"
      ],
      "metadata": {
        "id": "XM7JDDipl_P-"
      }
    },
    {
      "cell_type": "markdown",
      "metadata": {
        "id": "xVikPhXAofMt"
      },
      "source": [
        "# 3. Data preprocessing"
      ]
    },
    {
      "cell_type": "markdown",
      "metadata": {
        "id": "ar5CesTior6p"
      },
      "source": [
        "#     Find and fill missing values"
      ]
    },
    {
      "cell_type": "code",
      "execution_count": null,
      "metadata": {
        "colab": {
          "base_uri": "https://localhost:8080/"
        },
        "id": "ENnPMaoCnZbm",
        "outputId": "8ed88901-3f96-47d9-bce2-5decadee5ebe"
      },
      "outputs": [
        {
          "output_type": "stream",
          "name": "stdout",
          "text": [
            "price               0\n",
            "area                0\n",
            "bedrooms            0\n",
            "bathrooms           0\n",
            "stories             0\n",
            "mainroad            0\n",
            "guestroom           0\n",
            "basement            0\n",
            "hotwaterheating     0\n",
            "airconditioning     0\n",
            "parking             0\n",
            "prefarea            0\n",
            "furnishingstatus    0\n",
            "dtype: int64\n"
          ]
        }
      ],
      "source": [
        "missing_values=dataset.isnull().sum()\n",
        "print(missing_values)"
      ]
    },
    {
      "cell_type": "markdown",
      "metadata": {
        "id": "Npb6e1dGphuu"
      },
      "source": [
        "As there are no missing values we can skip this step."
      ]
    },
    {
      "cell_type": "markdown",
      "source": [
        "Here there are no missing values.So we need not to do the further process.suppose, if missing values are there ,Then we have to fill them with either mean or mode.If missing records are either 2 or 3 then delete them."
      ],
      "metadata": {
        "id": "tHC9CjHQLk6Y"
      }
    },
    {
      "cell_type": "markdown",
      "metadata": {
        "id": "-HFdc7-K04Vk"
      },
      "source": [
        "# label encoding"
      ]
    },
    {
      "cell_type": "markdown",
      "source": [
        "some Features like 'mainroad','guestroom','basement','hotwaterheating','airconditioning','prefarea' are catagorical .So we need to encode them using label encoding(0,1,2..)\n",
        "\n"
      ],
      "metadata": {
        "id": "UEGY1gAWLYQb"
      }
    },
    {
      "cell_type": "code",
      "execution_count": null,
      "metadata": {
        "colab": {
          "base_uri": "https://localhost:8080/"
        },
        "id": "eiyO7zaA09e9",
        "outputId": "d2b86927-9b92-4eb3-e104-e9217d5fb67a"
      },
      "outputs": [
        {
          "output_type": "stream",
          "name": "stdout",
          "text": [
            "[0.0e+00 1.0e+00 0.0e+00 6.1e+03 3.0e+00 1.0e+00 1.0e+00 1.0e+00 0.0e+00\n",
            " 1.0e+00 0.0e+00 1.0e+00 0.0e+00 1.0e+00]\n"
          ]
        }
      ],
      "source": [
        "from sklearn.compose import ColumnTransformer\n",
        "from sklearn.preprocessing import OneHotEncoder\n",
        "from sklearn.preprocessing import LabelEncoder\n",
        "le=LabelEncoder()\n",
        "encode_columns=[4,5,6,7,8,10]\n",
        "for columns in encode_columns:\n",
        "   x[:,columns]=le.fit_transform(x[:,columns])\n",
        "ct = ColumnTransformer(\n",
        "    transformers=[(\"encoder\", OneHotEncoder(), [11])],\n",
        "    remainder=\"passthrough\")\n",
        "x = np.array(ct.fit_transform(x))\n",
        "x=x.astype(\"float32\")\n",
        "y=y.astype(\"float32\")\n",
        "print(x[2])\n"
      ]
    },
    {
      "cell_type": "markdown",
      "metadata": {
        "id": "y7XYzePHahSN"
      },
      "source": [
        "# splitting data into training and test data"
      ]
    },
    {
      "cell_type": "markdown",
      "source": [
        "lets split the data into 80% of training data and 20% of test data"
      ],
      "metadata": {
        "id": "-NCuuE7Xmn_o"
      }
    },
    {
      "cell_type": "code",
      "execution_count": null,
      "metadata": {
        "colab": {
          "base_uri": "https://localhost:8080/"
        },
        "id": "cpnXTK481Npx",
        "outputId": "a65d21ef-2e19-4433-b6bb-7cd7c130076a"
      },
      "outputs": [
        {
          "output_type": "stream",
          "name": "stdout",
          "text": [
            "[[0. 1. 0. ... 0. 0. 0.]\n",
            " [1. 0. 0. ... 1. 2. 0.]\n",
            " [0. 1. 0. ... 0. 0. 0.]\n",
            " ...\n",
            " [0. 1. 0. ... 0. 3. 0.]\n",
            " [0. 0. 1. ... 0. 0. 0.]\n",
            " [0. 1. 0. ... 0. 1. 0.]]\n",
            "[ 3710000.  8890000.  3360000.  8190000.  6650000.  3115000.  4165000.\n",
            "  3500000.  3465000.  2310000.  3087000.  6510000.  4830000.  6160000.\n",
            "  4193000.  2870000.  2660000.  3500000.  3780000.  5110000.  5950000.\n",
            "  6510000.  7962500.  1960000.  3500000.  3290000.  3640000.  2940000.\n",
            "  5943000.  5250000.  8463000.  4277000.  4305000.  6475000.  3220000.\n",
            "  4200000.  2275000.  7560000.  3080000.  5810000.  4340000.  4200000.\n",
            "  3500000.  2940000.  4480000.  5565000.  4550000.  3115000.  5215000.\n",
            "  8080940.  3430000.  7350000.  5075000.  3465000.  6615000.  2800000.\n",
            "  3360000.  6755000.  2870000.  3143000.  4900000.  4900000.  3675000.\n",
            "  5600000.  3360000.  7210000.  3500000.  5250000.  6090000.  8645000.\n",
            "  4007500.  2800000.  5873000.  3493000.  6405000.  6650000.  4200000.\n",
            "  3220000.  4515000.  4403000.  3850000.  3500000.  9100000.  4550000.\n",
            "  4900000.  6930000.  3010000.  3640000.  2450000.  7350000.  5950000.\n",
            "  5810000.  3885000.  5600000.  3773000.  5600000.  9240000.  3430000.\n",
            "  4473000.  3836000.  5866000.  3010000.  2275000.  4060000.  1855000.\n",
            "  7420000.  5460000. 13300000.  3850000.  4830000.  8043000.  2520000.\n",
            "  5880000.  4550000.  6720000.  6440000.  5250000.  4753000.  4620000.\n",
            "  2835000.  8540000.  4200000.  4760000.  4130000.  3220000.  4270000.\n",
            "  6293000.  4760000.  5285000.  4270000.  2450000.  4585000.  6440000.\n",
            "  3360000.  6090000.  3710000.  2961000.  2660000.  4200000.  8400000.\n",
            "  5383000. 12250000.  3360000.  3990000.  4305000.  4550000. 12215000.\n",
            "  6107500.  3129000.  2100000.  4690000.  1767150.  4795000.  4900000.\n",
            "  6685000.  6300000.  5040000.  7350000.  4795000.  2940000.  5040000.\n",
            "  3010000.  7700000.  6300000.  5110000.  3220000.  4340000.  5250000.\n",
            "  4200000.  6195000.  5425000.  3500000.  4200000.  4585000.  3675000.\n",
            "  4515000.  5652500.  4690000.  4270000.  1750000.  5565000.  4095000.\n",
            "  8400000.  4165000.  5495000.  3430000.  9870000.  3360000.  4060000.\n",
            "  6419000.  4970000.  5040000.  2660000.  4025000.  8400000.  3010000.\n",
            "  3234000.  3423000.  2450000.  3920000.  5110000.  2975000.  7840000.\n",
            "  5530000.  3920000.  3990000.  5040000.  4830000.  6650000.  6125000.\n",
            "  3150000.  5250000.  2590000.  5950000.  3500000.  3885000.  2520000.\n",
            "  2485000.  2660000.  3850000.  3290000.  3640000.  2870000.  2730000.\n",
            "  7343000.  4235000.  3010000.  7070000.  6083000.  4025000.  4340000.\n",
            "  4900000.  6020000.  3780000.  5005000.  4515000.  6510000.  3430000.\n",
            "  4200000.  4480000.  4060000.  4893000.  4480000.  3395000.  3535000.\n",
            "  3710000.  2835000.  6020000.  6300000.  2695000.  3118850.  4550000.\n",
            "  3570000.  2940000.  2653000.  2730000.  3290000.  4550000.  2520000.\n",
            "  4620000.  2940000.  3773000.  6300000.  5950000.  3570000.  5950000.\n",
            "  4935000.  4095000.  5740000.  4543000.  4900000. 10150000.  2450000.\n",
            "  8750000.  3920000.  3150000.  3640000.  3990000.  3003000.  6083000.\n",
            "  4907000.  4200000.  3500000.  3290000.  4515000.  7875000.  3780000.\n",
            "  3850000.  5600000.  3115000.  4200000.  2590000.  3850000.  5803000.\n",
            "  7245000.  4865000.  5523000.  5320000.  3255000.  4340000.  5460000.\n",
            "  2100000.  7420000.  4200000.  4200000.  4270000.  5250000.  4893000.\n",
            "  3150000.  1820000.  9800000.  3290000.  2653000.  8120000.  3080000.\n",
            "  4690000.  3500000.  4690000.  8400000.  4480000.  2660000.  5950000.\n",
            "  3325000.  4620000.  3290000.  2380000.  7455000.  4165000.  2450000.\n",
            "  3850000.  4270000.  4200000.  8960000.  4410000.  3353000.  3920000.\n",
            "  4123000.  5460000.  2660000.  5033000.  3500000.  3703000.  3395000.\n",
            "  8855000.  3290000.  3570000.  3710000.  6629000.  5530000.  4900000.\n",
            "  4382000.  2380000.  6790000.  7560000.  5243000.  3640000.  6580000.\n",
            "  2100000.  3990000.  6650000.  4270000.  3710000.  4319000.  4200000.\n",
            "  5950000.  2135000.  6090000.  2660000.  5460000.  3010000.  2940000.\n",
            "  7700000.  3773000.  3360000.  6195000.  4480000.  5880000.  3255000.\n",
            "  4760000.  4235000.  9681000.  4340000.  3850000.  4613000.  5740000.\n",
            "  2233000.  3150000.  3780000.  3500000.  4900000.  3500000.  4900000.\n",
            "  5600000.  8645000.  4445000.  3465000.  5229000.  5740000.  3675000.\n",
            "  5250000.  4375000.  5600000.  7210000.  3920000.  4550000.  5530000.\n",
            "  3045000.  4200000.  3010000.  2940000.  5600000.  2408000.  4830000.\n",
            "  4655000.  5600000.  3640000.  4900000. 11410000.  4095000.  6615000.\n",
            "  3150000.  4200000.  3430000.  4690000.  4620000.  6160000.  7910000.\n",
            "  7070000.  4007500.  3395000.  2240000.  2835000.  5250000.  4193000.\n",
            "  2852500.  3500000.]\n"
          ]
        }
      ],
      "source": [
        "from sklearn.model_selection import train_test_split\n",
        "x_train,x_test,y_train,y_test=train_test_split( x , y,test_size=0.2,random_state=0)\n",
        "print(x_train)\n",
        "print(y_train)"
      ]
    },
    {
      "cell_type": "markdown",
      "source": [
        "To understand the shapes of train and test data.We use,"
      ],
      "metadata": {
        "id": "0Zz9y7rsm2Mt"
      }
    },
    {
      "cell_type": "code",
      "source": [
        "print(x_train.shape)\n",
        "print(y_train.shape)\n",
        "print(x_test.shape)\n",
        "print(y_test.shape)\n"
      ],
      "metadata": {
        "colab": {
          "base_uri": "https://localhost:8080/"
        },
        "id": "A93t-hNNtQ5g",
        "outputId": "905bfc07-fe29-4bc8-8b91-49a472255ef4"
      },
      "execution_count": null,
      "outputs": [
        {
          "output_type": "stream",
          "name": "stdout",
          "text": [
            "(436, 14)\n",
            "(436,)\n",
            "(109, 14)\n",
            "(109,)\n"
          ]
        }
      ]
    },
    {
      "cell_type": "markdown",
      "metadata": {
        "id": "Weprtm6sfP2i"
      },
      "source": [
        "# Feature Scaling"
      ]
    },
    {
      "cell_type": "markdown",
      "metadata": {
        "id": "VG5SxqJaf7FM"
      },
      "source": [
        "*Let's normalize the dependent variable (price) and area feature in independent variables. Because these are having unique numerical values and by normalizing them model may understand better patterns between them.*\n"
      ]
    },
    {
      "cell_type": "code",
      "execution_count": null,
      "metadata": {
        "id": "mIw7yKPpgPju"
      },
      "outputs": [],
      "source": [
        "from sklearn.preprocessing import MinMaxScaler\n",
        "sc=MinMaxScaler()\n",
        "x_train[:,3]=sc.fit_transform(x_train[:,3].reshape(-1,1)).flatten()\n",
        "x_test[:,3]=sc.transform(x_test[:,3].reshape(-1,1)).flatten()\n",
        "y_train=sc.fit_transform(y_train.reshape(-1,1)).flatten()\n",
        "y_test=sc.transform(y_test.reshape(-1,1)).flatten()"
      ]
    },
    {
      "cell_type": "code",
      "execution_count": null,
      "metadata": {
        "colab": {
          "base_uri": "https://localhost:8080/"
        },
        "id": "r3P74AUXgPov",
        "outputId": "15b9e6ef-7617-45b9-f879-e553bed34219"
      },
      "outputs": [
        {
          "output_type": "stream",
          "name": "stdout",
          "text": [
            "[0.11745363 0.18852744 0.21371108 0.2836656  0.31584468 0.11157747\n",
            " 0.20531654 0.16334382 0.01678908 0.08919202 0.4333683  0.44386145\n",
            " 0.15774745 0.181532   0.10807975 0.07939838 0.00664568 0.772228\n",
            " 0.11857292 0.6649178  0.12556836 0.3333333  0.2864638  0.1059811\n",
            " 0.14585519 0.29066107 0.07660021 0.11857292 0.95802724 0.13256383\n",
            " 0.2864638  0.10458201 0.17453653 0.14375654 0.08499475 0.3564183\n",
            " 0.14445609 0.2864638  0.21371108 0.20251834 0.31794333 0.01678908\n",
            " 0.11857292 0.3294858  0.44386145 0.17453653 0.11297655 0.13606155\n",
            " 0.08919202 0.3564183  0.14655474 0.2864638  0.26687652 0.2388947\n",
            " 0.6012591  0.05211611 0.12906611 0.2864638  0.24449107 0.181532\n",
            " 0.2724729  0.24449107 0.12067154 0.20251834 0.12696746 0.2864638\n",
            " 0.27806923 0.2374956  0.3294858  0.42987058 0.10877928 0.14375654\n",
            " 0.66841555 0.20951381 0.20251834 0.26547742 0.2724729  0.1724379\n",
            " 0.11227702 0.21091288 0.13606155 0.38090238 0.2864638  0.12137109\n",
            " 0.07450156 0.79013634 0.09338929 0.15564883 0.20531654 0.2864638\n",
            " 0.3578174  0.27443162 0.08919202 0.31164742 0.04302202 0.6012591\n",
            " 0.41238192 0.01678908 0.31164742 0.10108429 0.20251834 0.08289611\n",
            " 0.14445609 0.27946833 0.07590066 0.3871983  0.30115423 0.3857992\n",
            " 0.2374956  0.3467646  0.3901364  0.08919202 0.32144105 0.2416929\n",
            " 0.21790835 0.46694645 0.4627492  0.31724378 0.15774745 0.05141658\n",
            " 0.32423922 0.0293809  0.5079398  0.19076598 0.05449457 0.4102833\n",
            " 0.3284365  0.3089192  0.18852744 0.31164742 0.09129065 0.135362\n",
            " 0.21650925 0.11157747 0.45239595 0.11857292 0.07660021 0.14193773\n",
            " 0.15208113 0.38964674 0.31794333 0.5634837  0.08359565 0.32004195\n",
            " 0.5914655  0.2388947  0.3913956  0.09338929 0.25113675 0.07660021\n",
            " 0.16894019 0.03462748 0.4333683  0.30745015 0.3284365  0.15355018\n",
            " 0.11437565 0.22700244 0.3564183  0.2759706  0.39839104 0.12067154\n",
            " 0.32004195 0.37040922 0.29345924 0.16894019 0.181532   0.16474292\n",
            " 0.2514865  0.2514865  0.34417626 0.5313046  0.12137109 0.14655474\n",
            " 0.26128015 0.10807975 0.33263376 0.22840151 0.01888771 0.11997202\n",
            " 0.24449107 0.25848198 0.2514865  0.14977264 0.06379852 0.08954179\n",
            " 0.4333683  0.08954179 0.17033926 0.33892968 0.4044071  0.3284365\n",
            " 0.14655474 0.12067154 0.48758307 0.22182581 0.12137109 0.14935291\n",
            " 0.09338929 0.2514865  0.07660021 0.17117873 0.31164742 0.29345924\n",
            " 0.09688702 0.15005246 0.6152501  0.20356768 0.14935291 0.31584468\n",
            " 0.10807975 0.32423922 0.11857292 0.37880376 0.01608953 0.13116473\n",
            " 0.06820565 0.17453653 0.03672612 0.00769499 0.04162294 0.02588317\n",
            " 0.12067154 0.3424274  0.6670164  0.06169988 0.06505771 0.48793283\n",
            " 0.5396992  0.10877928 0.         0.15320042 0.42637286 0.45435467\n",
            " 0.43686602 0.11297655 0.12976563 0.13606155 0.21930742 0.14655474\n",
            " 0.07660021 0.1059811  0.14935291 0.12137109 0.13606155 0.28786287\n",
            " 0.1710388  0.34942287 0.49632737 0.14655474 0.03448758 0.04512067\n",
            " 0.12137109 0.05561385 0.08954179 0.14655474 0.11017838 0.12976563\n",
            " 0.07660021 0.1381602  0.21371108 0.44386145 0.2864638  0.37257782\n",
            " 0.181532   0.32423922 0.28282616 0.12416929 0.21650925 0.15355018\n",
            " 0.19174534 1.         0.11157747 0.16894019 0.37460646 0.14557537\n",
            " 0.08919202 0.15355018 0.42987058 0.16754109 0.16054565 0.2759706\n",
            " 0.12207064 0.01678908 0.5564883  0.32493877 0.06652676 0.3670514\n",
            " 0.2514865  0.07660021 0.05890171 0.17453653 0.15215108 0.3564183\n",
            " 0.49632737 0.1710388  0.34942287 0.41238192 0.181532   0.11157747\n",
            " 0.29345924 0.10178383 0.3871983  0.11297655 0.07331234 0.17173836\n",
            " 0.2514865  0.2161595  0.08142707 0.07660021 0.26897514 0.14935291\n",
            " 0.14655474 0.34522557 0.0178384  0.542987   0.11017838 0.12067154\n",
            " 0.3564183  0.18223155 0.12067154 0.31584468 0.20076948 0.26407835\n",
            " 0.1320042  0.03987408 0.16754109 0.15215108 0.07660021 0.08919202\n",
            " 0.181532   0.14655474 0.4613501  0.20951381 0.05561385 0.07660021\n",
            " 0.29066107 0.3284365  0.0626093  0.20251834 0.38607904 0.08499475\n",
            " 0.20146903 0.31584468 0.27806923 0.181532   0.15005246 0.2864638\n",
            " 0.12207064 0.76915    0.21301153 0.06169988 0.14655474 0.2864638\n",
            " 0.28996152 0.2836656  0.2864638  0.03462748 0.181532   0.32144105\n",
            " 0.31164742 0.14935291 0.14879328 0.04931794 0.30423224 0.07660021\n",
            " 0.3284365  0.11017838 0.08709338 0.18852744 0.12277019 0.2864638\n",
            " 0.3515215  0.19902062 0.2514865  0.27841902 0.36761102 0.14165792\n",
            " 0.583071   0.3319342  0.2864638  0.15180132 0.01895767 0.18223155\n",
            " 0.19132563 0.2374956  0.15320042 0.20391744 0.27946833 0.33683103\n",
            " 0.07911856 0.07660021 0.3284365  0.18572927 0.12906611 0.08079748\n",
            " 0.36236444 0.31164742 0.12067154 0.45435467 0.13955927 0.22602308\n",
            " 0.40398738 0.13368309 0.45435467 0.09758656 0.13256383 0.17523608\n",
            " 0.12906611 0.11017838 0.6012591  0.12102133 0.28926197 0.12871632\n",
            " 0.21650925 0.06610702 0.1829311  0.3857992  0.14935291 0.14655474\n",
            " 0.33892968 0.181532   0.04931794 0.2864638  0.2172088  0.24798879\n",
            " 0.2864638  0.30325288 0.181532   0.10807975 0.00314794 0.09758656\n",
            " 0.55229104 0.44386145 0.23050016 0.12137109]\n",
            "[ 0.20811471 -0.01434068  0.07030429  0.48233643  0.3284365   0.4319692\n",
            "  0.71248686  0.2158097   0.3284365   0.31444559  0.40538648  0.10528156\n",
            "  0.2864638   0.11241692  0.2864638   0.2864638   0.11857292  0.46694645\n",
            "  0.5850997   0.07660021  0.12200069  0.42497376  0.181532    0.37040922\n",
            "  0.01678908  0.18852744  0.11017838  0.11297655  0.28541446  0.3231899\n",
            "  0.06820565  0.2745715   0.2864638   0.6484785   0.1059811   0.15494928\n",
            "  0.24798879  0.08793284  0.2724729   0.0626093   0.36726126  0.11857292\n",
            "  0.49352917  0.08289611  0.07030429  0.49632737  0.2864638   0.00314794\n",
            "  0.12137109  0.16474292  0.11157747  0.11157747  0.79013634  0.31164742\n",
            "  0.0950682   0.181532    0.11647429  0.1443162   0.2864638  -0.01783841\n",
            "  0.32493877  0.14375654  0.11227702  0.14935291  0.17523608  0.33613148\n",
            "  0.24449107  0.15494928  0.38509968  0.11857292  0.23050016  0.2864638\n",
            "  0.21594962  0.08709338  0.20811471  0.07660021  0.08499475  0.20041972\n",
            "  0.42497376  0.3913956   0.08709338  0.24449107  0.11297655  0.08919202\n",
            "  0.309199    0.42287514  0.08709338  0.10807975  0.3284365   0.06750612\n",
            "  0.3424274   0.18852744  0.31094787  0.01678908  0.24449107  0.13606155\n",
            "  0.1955229   0.48793283  0.181532    0.40538648  0.2514865   0.49632737\n",
            "  0.16614199  0.14655474  0.2864638   0.2514865   0.16894019  0.1059811\n",
            " -0.00482687]\n",
            "[0.16969696 0.6181818  0.13939393 0.5575757  0.4242424  0.11818182\n",
            " 0.20909092 0.15151516 0.14848486 0.04848485 0.11575758 0.4121212\n",
            " 0.26666665 0.3818182  0.21151516 0.09696969 0.07878788 0.15151516\n",
            " 0.17575759 0.29090908 0.36363634 0.4121212  0.53787875 0.01818182\n",
            " 0.15151516 0.13333333 0.16363636 0.10303029 0.36303028 0.3030303\n",
            " 0.58121216 0.21878788 0.22121212 0.4090909  0.12727273 0.21212122\n",
            " 0.04545455 0.5030303  0.11515152 0.35151514 0.22424242 0.21212122\n",
            " 0.15151516 0.10303029 0.23636362 0.33030304 0.24242425 0.11818182\n",
            " 0.3        0.5481334  0.14545456 0.48484847 0.28787878 0.14848486\n",
            " 0.4212121  0.09090909 0.13939393 0.4333333  0.09696969 0.12060606\n",
            " 0.27272728 0.27272728 0.16666666 0.33333334 0.13939393 0.47272727\n",
            " 0.15151516 0.3030303  0.37575755 0.5969697  0.19545454 0.09090909\n",
            " 0.35696968 0.1509091  0.4030303  0.4242424  0.21212122 0.12727273\n",
            " 0.23939395 0.22969696 0.18181819 0.15151516 0.6363636  0.24242425\n",
            " 0.27272728 0.44848487 0.10909089 0.16363636 0.06060606 0.48484847\n",
            " 0.36363634 0.35151514 0.18484849 0.33333334 0.17515153 0.33333334\n",
            " 0.6484848  0.14545456 0.23575756 0.18060607 0.35636362 0.10909089\n",
            " 0.04545455 0.19999999 0.0090909  0.49090907 0.3212121  1.\n",
            " 0.18181819 0.26666665 0.54484844 0.06666666 0.35757574 0.24242425\n",
            " 0.430303   0.4060606  0.3030303  0.26       0.24848485 0.09393939\n",
            " 0.5878788  0.21212122 0.26060605 0.20606062 0.12727273 0.21818182\n",
            " 0.39333335 0.26060605 0.3060606  0.21818182 0.06060606 0.24545455\n",
            " 0.4060606  0.13939393 0.37575755 0.16969696 0.10484847 0.07878788\n",
            " 0.21212122 0.5757576  0.31454545 0.909091   0.13939393 0.19393939\n",
            " 0.22121212 0.24242425 0.9060607  0.37727275 0.11939394 0.03030303\n",
            " 0.25454545 0.00148484 0.26363635 0.27272728 0.4272727  0.3939394\n",
            " 0.28484848 0.48484847 0.26363635 0.10303029 0.28484848 0.10909089\n",
            " 0.5151515  0.3939394  0.29090908 0.12727273 0.22424242 0.3030303\n",
            " 0.21212122 0.3848485  0.3181818  0.15151516 0.21212122 0.24545455\n",
            " 0.16666666 0.23939395 0.3378788  0.25454545 0.21818182 0.\n",
            " 0.33030304 0.20303029 0.5757576  0.20909092 0.3242424  0.14545456\n",
            " 0.70303035 0.13939393 0.19999999 0.40424243 0.27878788 0.28484848\n",
            " 0.07878788 0.19696969 0.5757576  0.10909089 0.12848485 0.1448485\n",
            " 0.06060606 0.18787879 0.29090908 0.10606059 0.5272727  0.3272727\n",
            " 0.18787879 0.19393939 0.28484848 0.26666665 0.4242424  0.3787879\n",
            " 0.12121212 0.3030303  0.07272726 0.36363634 0.15151516 0.18484849\n",
            " 0.06666666 0.06363636 0.07878788 0.18181819 0.13333333 0.16363636\n",
            " 0.09696969 0.08484848 0.4842424  0.21515152 0.10909089 0.46060607\n",
            " 0.3751515  0.19696969 0.22424242 0.27272728 0.36969694 0.17575759\n",
            " 0.28181818 0.23939395 0.4121212  0.14545456 0.21212122 0.23636362\n",
            " 0.19999999 0.27212122 0.23636362 0.14242423 0.15454546 0.16969696\n",
            " 0.09393939 0.36969694 0.3939394  0.08181818 0.11851513 0.24242425\n",
            " 0.15757576 0.10303029 0.07818182 0.08484848 0.13333333 0.24242425\n",
            " 0.06666666 0.24848485 0.10303029 0.17515153 0.3939394  0.36363634\n",
            " 0.15757576 0.36363634 0.27575758 0.20303029 0.34545454 0.24181819\n",
            " 0.27272728 0.72727275 0.06060606 0.6060606  0.18787879 0.12121212\n",
            " 0.16363636 0.19393939 0.10848483 0.3751515  0.27333334 0.21212122\n",
            " 0.15151516 0.13333333 0.23939395 0.530303   0.17575759 0.18181819\n",
            " 0.33333334 0.11818182 0.21212122 0.07272726 0.18181819 0.35090908\n",
            " 0.47575757 0.26969698 0.32666665 0.3090909  0.13030303 0.22424242\n",
            " 0.3212121  0.03030303 0.49090907 0.21212122 0.21212122 0.21818182\n",
            " 0.3030303  0.27212122 0.12121212 0.0060606  0.69696975 0.13333333\n",
            " 0.07818182 0.5515151  0.11515152 0.25454545 0.15151516 0.25454545\n",
            " 0.5757576  0.23636362 0.07878788 0.36363634 0.13636363 0.24848485\n",
            " 0.13333333 0.05454545 0.49393937 0.20909092 0.06060606 0.18181819\n",
            " 0.21818182 0.21212122 0.6242424  0.23030302 0.13878787 0.18787879\n",
            " 0.20545453 0.3212121  0.07878788 0.28424242 0.15151516 0.1690909\n",
            " 0.14242423 0.6151515  0.13333333 0.15757576 0.16969696 0.42242423\n",
            " 0.3272727  0.27272728 0.22787878 0.05454545 0.4363636  0.5030303\n",
            " 0.30242425 0.16363636 0.4181818  0.03030303 0.19393939 0.4242424\n",
            " 0.21818182 0.16969696 0.22242424 0.21212122 0.36363634 0.03333333\n",
            " 0.37575755 0.07878788 0.3212121  0.10909089 0.10303029 0.5151515\n",
            " 0.17515153 0.13939393 0.3848485  0.23636362 0.35757574 0.13030303\n",
            " 0.26060605 0.21515152 0.6866666  0.22424242 0.18181819 0.24787879\n",
            " 0.34545454 0.04181817 0.12121212 0.17575759 0.15151516 0.27272728\n",
            " 0.15151516 0.27272728 0.33333334 0.5969697  0.23333332 0.14848486\n",
            " 0.30121213 0.34545454 0.16666666 0.3030303  0.22727272 0.33333334\n",
            " 0.47272727 0.18787879 0.24242425 0.3272727  0.11212119 0.21212122\n",
            " 0.10909089 0.10303029 0.33333334 0.05696969 0.26666665 0.25151515\n",
            " 0.33333334 0.16363636 0.27272728 0.8363637  0.20303029 0.4212121\n",
            " 0.12121212 0.21212122 0.14545456 0.25454545 0.24848485 0.3818182\n",
            " 0.5333333  0.46060607 0.19545454 0.14242423 0.04242423 0.09393939\n",
            " 0.3030303  0.21151516 0.09545454 0.15151516]\n",
            "[0.5666667  0.01212122 0.         0.5909091  0.49696967 0.18787879\n",
            " 0.4363636  0.24181819 0.6363636  0.3939394  0.44545457 0.29393938\n",
            " 0.48484847 0.15151516 0.46666667 0.49999997 0.16666666 0.72727275\n",
            " 0.3030303  0.06363636 0.01212122 0.3242424  0.16060606 0.3\n",
            " 0.13696969 0.21212122 0.17272726 0.1630303  0.20606062 0.36363634\n",
            " 0.22969696 0.17575759 0.4242424  0.45454547 0.2612121  0.27272728\n",
            " 0.1690909  0.23575756 0.34545454 0.27757576 0.6        0.20333332\n",
            " 0.909091   0.11515152 0.0739394  0.5393939  0.3909091  0.14545456\n",
            " 0.05151515 0.4242424  0.6484848  0.12121212 0.69696975 0.45757577\n",
            " 0.05454545 0.11515152 0.16363636 0.23030302 0.44242427 0.12121212\n",
            " 0.6545454  0.19393939 0.23575756 0.13636363 0.27878788 0.3151515\n",
            " 0.19696969 0.13939393 0.4090909  0.07272726 0.35151514 0.09696969\n",
            " 0.19999999 0.15757576 0.22969696 0.29090908 0.15151516 0.27272728\n",
            " 0.29393938 0.78787875 0.17878789 0.25454545 0.16363636 0.13333333\n",
            " 0.49090907 0.5757576  0.10303029 0.12121212 0.3878788  0.24848485\n",
            " 0.36969694 0.15151516 0.3848485  0.18787879 0.34545454 0.\n",
            " 0.33333334 0.44848487 0.3        0.06060606 0.3878788  0.12121212\n",
            " 0.16363636 0.16060606 0.34848484 0.35696968 0.19999999 0.17575759\n",
            " 0.04545455]\n"
          ]
        }
      ],
      "source": [
        "print(x_train[:,3])\n",
        "print(x_test[:,3])\n",
        "print(y_train)\n",
        "print(y_test)"
      ]
    },
    {
      "cell_type": "markdown",
      "source": [
        "# 4.**Selection of model**\n",
        "     The prices of house mainly depends on independent features so we can select a regression model.As it depends on multiple features we can use multiple regression model.\n",
        "     But lets try with deep learning model because there are many observartion in our dataset.\n",
        "     so deep neural network will be the best."
      ],
      "metadata": {
        "id": "yvQXbr4eqoip"
      }
    },
    {
      "cell_type": "markdown",
      "source": [
        "# **5.Build the model**"
      ],
      "metadata": {
        "id": "FLILc2qtjVBE"
      }
    },
    {
      "cell_type": "markdown",
      "source": [
        "**create model:**we use relu for most of the regression problems for input and hidden layers.But for output we can use either linear or relu. If our model contains negative values as output we can use relu .But as our model's output is positive value we can use linear activation function."
      ],
      "metadata": {
        "id": "IXI6lYxsnW0f"
      }
    },
    {
      "cell_type": "code",
      "source": [
        "import tensorflow as tf\n",
        "model=tf.keras.Sequential()\n",
        "model.add(tf.keras.layers.Dense(units=100,activation='relu'))\n",
        "model.add(tf.keras.layers.Dense(units=10,activation='relu'))\n",
        "model.add(tf.keras.layers.Dense(1,activation='linear'))"
      ],
      "metadata": {
        "id": "L81gq5SmGHv_"
      },
      "execution_count": null,
      "outputs": []
    },
    {
      "cell_type": "markdown",
      "source": [
        "Compile Model: For regression problems use optimizers as Adam od RMSprop so that learning rate will change as per data aptterns to train model."
      ],
      "metadata": {
        "id": "zyTXNRU_oUyj"
      }
    },
    {
      "cell_type": "code",
      "source": [
        "model.compile(loss=tf.keras.losses.mse,optimizer=tf.keras.optimizers.RMSprop(0.01),metrics=['mse'])"
      ],
      "metadata": {
        "id": "xMHRIN84HOUl"
      },
      "execution_count": null,
      "outputs": []
    },
    {
      "cell_type": "markdown",
      "source": [
        "Fit Model: Train model for 30 epochs or more and ensure to add validation data for better vizualisation so that trained model can evaluate test set simultaneously."
      ],
      "metadata": {
        "id": "L3vwxBrVoYBJ"
      }
    },
    {
      "cell_type": "code",
      "source": [
        "model_history=model.fit(x_train,y_train,epochs=30,validation_data=(x_test,y_test))"
      ],
      "metadata": {
        "colab": {
          "base_uri": "https://localhost:8080/"
        },
        "id": "cItxiTNBIfQ3",
        "outputId": "03f99280-5dcd-4d47-c168-24bd292f3928"
      },
      "execution_count": null,
      "outputs": [
        {
          "output_type": "stream",
          "name": "stdout",
          "text": [
            "Epoch 1/30\n",
            "\u001b[1m14/14\u001b[0m \u001b[32m━━━━━━━━━━━━━━━━━━━━\u001b[0m\u001b[37m\u001b[0m \u001b[1m2s\u001b[0m 23ms/step - loss: 0.6805 - mse: 0.6805 - val_loss: 0.0151 - val_mse: 0.0151\n",
            "Epoch 2/30\n",
            "\u001b[1m14/14\u001b[0m \u001b[32m━━━━━━━━━━━━━━━━━━━━\u001b[0m\u001b[37m\u001b[0m \u001b[1m0s\u001b[0m 7ms/step - loss: 0.0134 - mse: 0.0134 - val_loss: 0.0141 - val_mse: 0.0141\n",
            "Epoch 3/30\n",
            "\u001b[1m14/14\u001b[0m \u001b[32m━━━━━━━━━━━━━━━━━━━━\u001b[0m\u001b[37m\u001b[0m \u001b[1m0s\u001b[0m 7ms/step - loss: 0.0221 - mse: 0.0221 - val_loss: 0.0327 - val_mse: 0.0327\n",
            "Epoch 4/30\n",
            "\u001b[1m14/14\u001b[0m \u001b[32m━━━━━━━━━━━━━━━━━━━━\u001b[0m\u001b[37m\u001b[0m \u001b[1m0s\u001b[0m 6ms/step - loss: 0.0302 - mse: 0.0302 - val_loss: 0.0134 - val_mse: 0.0134\n",
            "Epoch 5/30\n",
            "\u001b[1m14/14\u001b[0m \u001b[32m━━━━━━━━━━━━━━━━━━━━\u001b[0m\u001b[37m\u001b[0m \u001b[1m0s\u001b[0m 6ms/step - loss: 0.0191 - mse: 0.0191 - val_loss: 0.0328 - val_mse: 0.0328\n",
            "Epoch 6/30\n",
            "\u001b[1m14/14\u001b[0m \u001b[32m━━━━━━━━━━━━━━━━━━━━\u001b[0m\u001b[37m\u001b[0m \u001b[1m0s\u001b[0m 5ms/step - loss: 0.0184 - mse: 0.0184 - val_loss: 0.0139 - val_mse: 0.0139\n",
            "Epoch 7/30\n",
            "\u001b[1m14/14\u001b[0m \u001b[32m━━━━━━━━━━━━━━━━━━━━\u001b[0m\u001b[37m\u001b[0m \u001b[1m0s\u001b[0m 8ms/step - loss: 0.0174 - mse: 0.0174 - val_loss: 0.0318 - val_mse: 0.0318\n",
            "Epoch 8/30\n",
            "\u001b[1m14/14\u001b[0m \u001b[32m━━━━━━━━━━━━━━━━━━━━\u001b[0m\u001b[37m\u001b[0m \u001b[1m0s\u001b[0m 7ms/step - loss: 0.0175 - mse: 0.0175 - val_loss: 0.0130 - val_mse: 0.0130\n",
            "Epoch 9/30\n",
            "\u001b[1m14/14\u001b[0m \u001b[32m━━━━━━━━━━━━━━━━━━━━\u001b[0m\u001b[37m\u001b[0m \u001b[1m0s\u001b[0m 6ms/step - loss: 0.0156 - mse: 0.0156 - val_loss: 0.0108 - val_mse: 0.0108\n",
            "Epoch 10/30\n",
            "\u001b[1m14/14\u001b[0m \u001b[32m━━━━━━━━━━━━━━━━━━━━\u001b[0m\u001b[37m\u001b[0m \u001b[1m0s\u001b[0m 7ms/step - loss: 0.0101 - mse: 0.0101 - val_loss: 0.0101 - val_mse: 0.0101\n",
            "Epoch 11/30\n",
            "\u001b[1m14/14\u001b[0m \u001b[32m━━━━━━━━━━━━━━━━━━━━\u001b[0m\u001b[37m\u001b[0m \u001b[1m0s\u001b[0m 4ms/step - loss: 0.0111 - mse: 0.0111 - val_loss: 0.0099 - val_mse: 0.0099\n",
            "Epoch 12/30\n",
            "\u001b[1m14/14\u001b[0m \u001b[32m━━━━━━━━━━━━━━━━━━━━\u001b[0m\u001b[37m\u001b[0m \u001b[1m0s\u001b[0m 4ms/step - loss: 0.0126 - mse: 0.0126 - val_loss: 0.0107 - val_mse: 0.0107\n",
            "Epoch 13/30\n",
            "\u001b[1m14/14\u001b[0m \u001b[32m━━━━━━━━━━━━━━━━━━━━\u001b[0m\u001b[37m\u001b[0m \u001b[1m0s\u001b[0m 5ms/step - loss: 0.0100 - mse: 0.0100 - val_loss: 0.0107 - val_mse: 0.0107\n",
            "Epoch 14/30\n",
            "\u001b[1m14/14\u001b[0m \u001b[32m━━━━━━━━━━━━━━━━━━━━\u001b[0m\u001b[37m\u001b[0m \u001b[1m0s\u001b[0m 6ms/step - loss: 0.0084 - mse: 0.0084 - val_loss: 0.0100 - val_mse: 0.0100\n",
            "Epoch 15/30\n",
            "\u001b[1m14/14\u001b[0m \u001b[32m━━━━━━━━━━━━━━━━━━━━\u001b[0m\u001b[37m\u001b[0m \u001b[1m0s\u001b[0m 5ms/step - loss: 0.0093 - mse: 0.0093 - val_loss: 0.0218 - val_mse: 0.0218\n",
            "Epoch 16/30\n",
            "\u001b[1m14/14\u001b[0m \u001b[32m━━━━━━━━━━━━━━━━━━━━\u001b[0m\u001b[37m\u001b[0m \u001b[1m0s\u001b[0m 4ms/step - loss: 0.0092 - mse: 0.0092 - val_loss: 0.0122 - val_mse: 0.0122\n",
            "Epoch 17/30\n",
            "\u001b[1m14/14\u001b[0m \u001b[32m━━━━━━━━━━━━━━━━━━━━\u001b[0m\u001b[37m\u001b[0m \u001b[1m0s\u001b[0m 4ms/step - loss: 0.0103 - mse: 0.0103 - val_loss: 0.0167 - val_mse: 0.0167\n",
            "Epoch 18/30\n",
            "\u001b[1m14/14\u001b[0m \u001b[32m━━━━━━━━━━━━━━━━━━━━\u001b[0m\u001b[37m\u001b[0m \u001b[1m0s\u001b[0m 4ms/step - loss: 0.0099 - mse: 0.0099 - val_loss: 0.0149 - val_mse: 0.0149\n",
            "Epoch 19/30\n",
            "\u001b[1m14/14\u001b[0m \u001b[32m━━━━━━━━━━━━━━━━━━━━\u001b[0m\u001b[37m\u001b[0m \u001b[1m0s\u001b[0m 6ms/step - loss: 0.0088 - mse: 0.0088 - val_loss: 0.0170 - val_mse: 0.0170\n",
            "Epoch 20/30\n",
            "\u001b[1m14/14\u001b[0m \u001b[32m━━━━━━━━━━━━━━━━━━━━\u001b[0m\u001b[37m\u001b[0m \u001b[1m0s\u001b[0m 4ms/step - loss: 0.0104 - mse: 0.0104 - val_loss: 0.0171 - val_mse: 0.0171\n",
            "Epoch 21/30\n",
            "\u001b[1m14/14\u001b[0m \u001b[32m━━━━━━━━━━━━━━━━━━━━\u001b[0m\u001b[37m\u001b[0m \u001b[1m0s\u001b[0m 5ms/step - loss: 0.0123 - mse: 0.0123 - val_loss: 0.0103 - val_mse: 0.0103\n",
            "Epoch 22/30\n",
            "\u001b[1m14/14\u001b[0m \u001b[32m━━━━━━━━━━━━━━━━━━━━\u001b[0m\u001b[37m\u001b[0m \u001b[1m0s\u001b[0m 6ms/step - loss: 0.0093 - mse: 0.0093 - val_loss: 0.0120 - val_mse: 0.0120\n",
            "Epoch 23/30\n",
            "\u001b[1m14/14\u001b[0m \u001b[32m━━━━━━━━━━━━━━━━━━━━\u001b[0m\u001b[37m\u001b[0m \u001b[1m0s\u001b[0m 4ms/step - loss: 0.0080 - mse: 0.0080 - val_loss: 0.0199 - val_mse: 0.0199\n",
            "Epoch 24/30\n",
            "\u001b[1m14/14\u001b[0m \u001b[32m━━━━━━━━━━━━━━━━━━━━\u001b[0m\u001b[37m\u001b[0m \u001b[1m0s\u001b[0m 4ms/step - loss: 0.0111 - mse: 0.0111 - val_loss: 0.0096 - val_mse: 0.0096\n",
            "Epoch 25/30\n",
            "\u001b[1m14/14\u001b[0m \u001b[32m━━━━━━━━━━━━━━━━━━━━\u001b[0m\u001b[37m\u001b[0m \u001b[1m0s\u001b[0m 5ms/step - loss: 0.0082 - mse: 0.0082 - val_loss: 0.0113 - val_mse: 0.0113\n",
            "Epoch 26/30\n",
            "\u001b[1m14/14\u001b[0m \u001b[32m━━━━━━━━━━━━━━━━━━━━\u001b[0m\u001b[37m\u001b[0m \u001b[1m0s\u001b[0m 15ms/step - loss: 0.0067 - mse: 0.0067 - val_loss: 0.0114 - val_mse: 0.0114\n",
            "Epoch 27/30\n",
            "\u001b[1m14/14\u001b[0m \u001b[32m━━━━━━━━━━━━━━━━━━━━\u001b[0m\u001b[37m\u001b[0m \u001b[1m0s\u001b[0m 5ms/step - loss: 0.0080 - mse: 0.0080 - val_loss: 0.0107 - val_mse: 0.0107\n",
            "Epoch 28/30\n",
            "\u001b[1m14/14\u001b[0m \u001b[32m━━━━━━━━━━━━━━━━━━━━\u001b[0m\u001b[37m\u001b[0m \u001b[1m0s\u001b[0m 6ms/step - loss: 0.0067 - mse: 0.0067 - val_loss: 0.0097 - val_mse: 0.0097\n",
            "Epoch 29/30\n",
            "\u001b[1m14/14\u001b[0m \u001b[32m━━━━━━━━━━━━━━━━━━━━\u001b[0m\u001b[37m\u001b[0m \u001b[1m0s\u001b[0m 4ms/step - loss: 0.0076 - mse: 0.0076 - val_loss: 0.0116 - val_mse: 0.0116\n",
            "Epoch 30/30\n",
            "\u001b[1m14/14\u001b[0m \u001b[32m━━━━━━━━━━━━━━━━━━━━\u001b[0m\u001b[37m\u001b[0m \u001b[1m0s\u001b[0m 5ms/step - loss: 0.0097 - mse: 0.0097 - val_loss: 0.0105 - val_mse: 0.0105\n"
          ]
        }
      ]
    },
    {
      "cell_type": "markdown",
      "source": [],
      "metadata": {
        "id": "YEv_8K72jgsl"
      }
    },
    {
      "cell_type": "markdown",
      "source": [
        "#6.Evaluate the model"
      ],
      "metadata": {
        "id": "R5Grd4YejJrp"
      }
    },
    {
      "cell_type": "code",
      "source": [
        "model.evaluate(x_test,y_test)"
      ],
      "metadata": {
        "colab": {
          "base_uri": "https://localhost:8080/"
        },
        "id": "YRdPhL4PIwec",
        "outputId": "6fa8ba2a-bc90-44a1-835f-0e8c48ace9ab"
      },
      "execution_count": null,
      "outputs": [
        {
          "output_type": "stream",
          "name": "stdout",
          "text": [
            "\u001b[1m4/4\u001b[0m \u001b[32m━━━━━━━━━━━━━━━━━━━━\u001b[0m\u001b[37m\u001b[0m \u001b[1m0s\u001b[0m 3ms/step - loss: 0.0108 - mse: 0.0108 \n"
          ]
        },
        {
          "output_type": "execute_result",
          "data": {
            "text/plain": [
              "[0.01049202959984541, 0.01049202959984541]"
            ]
          },
          "metadata": {},
          "execution_count": 15
        }
      ]
    },
    {
      "cell_type": "markdown",
      "source": [
        "# 7.Predict the results"
      ],
      "metadata": {
        "id": "drhtTMr0jnUK"
      }
    },
    {
      "cell_type": "code",
      "source": [
        "y_pred=model.predict(x_test)"
      ],
      "metadata": {
        "colab": {
          "base_uri": "https://localhost:8080/"
        },
        "id": "vcAvPqRqwtFb",
        "outputId": "660d7399-fddc-4531-8c5d-5737b3e43818"
      },
      "execution_count": null,
      "outputs": [
        {
          "output_type": "stream",
          "name": "stdout",
          "text": [
            "\u001b[1m4/4\u001b[0m \u001b[32m━━━━━━━━━━━━━━━━━━━━\u001b[0m\u001b[37m\u001b[0m \u001b[1m0s\u001b[0m 13ms/step\n"
          ]
        }
      ]
    },
    {
      "cell_type": "code",
      "source": [
        "y_pred=y_pred.flatten()\n",
        "print(y_pred.shape)\n",
        "print(y_test.shape)"
      ],
      "metadata": {
        "id": "nPcfTL2iwxTm"
      },
      "execution_count": null,
      "outputs": []
    },
    {
      "cell_type": "markdown",
      "source": [
        "For standard scalarization we cannot pass 1d array.so let's reshape it to 2D array."
      ],
      "metadata": {
        "id": "oICHwcDFpf2r"
      }
    },
    {
      "cell_type": "code",
      "source": [
        "y_pred=model.predict(x_test)\n",
        "y_pred=y_pred.reshape(-1,1)\n",
        "y_test=y_test.reshape(-1,1)\n",
        "y_pred_original = sc.inverse_transform(y_pred)\n",
        "y_test_original = sc.inverse_transform(y_test)"
      ],
      "metadata": {
        "colab": {
          "base_uri": "https://localhost:8080/"
        },
        "id": "RepITfZuyCrZ",
        "outputId": "d57674b6-75d7-467f-c635-2083142e89c4"
      },
      "execution_count": null,
      "outputs": [
        {
          "output_type": "stream",
          "name": "stdout",
          "text": [
            "\u001b[1m4/4\u001b[0m \u001b[32m━━━━━━━━━━━━━━━━━━━━\u001b[0m\u001b[37m\u001b[0m \u001b[1m0s\u001b[0m 2ms/step \n"
          ]
        }
      ]
    },
    {
      "cell_type": "code",
      "source": [
        "print(np.concatenate((y_pred_original, y_test_original), axis=1))\n"
      ],
      "metadata": {
        "colab": {
          "base_uri": "https://localhost:8080/"
        },
        "id": "gEuNdIYq8bbF",
        "outputId": "ae46e72c-728e-4324-cf25-c4c26d2c1fc3"
      },
      "execution_count": null,
      "outputs": [
        {
          "output_type": "stream",
          "name": "stdout",
          "text": [
            "[[ 7697430.5  8295000.5]\n",
            " [ 3128233.8  1890000.1]\n",
            " [ 3256662.2  1750000. ]\n",
            " [ 8131313.   8575000. ]\n",
            " [ 9112946.   7489999.5]\n",
            " [ 5503418.5  3920000. ]\n",
            " [ 7678413.   6789999.5]\n",
            " [ 6399421.   4543000. ]\n",
            " [ 8085804.5  9100000. ]\n",
            " [ 6567486.   6300000. ]\n",
            " [ 3257140.   6895000.5]\n",
            " [ 3849926.   5145000. ]\n",
            " [ 8521933.   7350000. ]\n",
            " [ 3252025.2  3500000. ]\n",
            " [ 5756805.5  7140000. ]\n",
            " [ 7902556.   7524999.5]\n",
            " [ 3335769.   3675000. ]\n",
            " [10635742.  10150000. ]\n",
            " [ 5838436.5  5250000. ]\n",
            " [ 3388656.2  2485000. ]\n",
            " [ 3252584.   1890000.1]\n",
            " [ 4398238.5  5495000. ]\n",
            " [ 3733276.5  3605000. ]\n",
            " [ 6603751.5  5215000. ]\n",
            " [ 4566427.   3332000. ]\n",
            " [ 6305292.   4200000. ]\n",
            " [ 4090896.8  3744999.8]\n",
            " [ 3812962.2  3633000. ]\n",
            " [ 4533903.   4130000.2]\n",
            " [ 6948601.5  5950000. ]\n",
            " [ 4213695.5  4403000. ]\n",
            " [ 3574102.   3780000.2]\n",
            " [ 7241495.   6650000. ]\n",
            " [ 7506518.   7000000. ]\n",
            " [ 4630797.   4767000. ]\n",
            " [ 4547486.5  4900000. ]\n",
            " [ 3380713.8  3703000. ]\n",
            " [ 5256645.   4473000. ]\n",
            " [ 7137948.   5740000. ]\n",
            " [ 5606548.   4956000. ]\n",
            " [ 6669068.5  8680000. ]\n",
            " [ 5192510.5  4098499.8]\n",
            " [11512026.  12250001. ]\n",
            " [ 4439644.   3080000.2]\n",
            " [ 3006988.8  2604000. ]\n",
            " [ 8992780.   7979999. ]\n",
            " [ 5440872.5  6265000. ]\n",
            " [ 5429873.5  3430000.2]\n",
            " [ 3252820.5  2345000. ]\n",
            " [ 5276186.5  6650000. ]\n",
            " [ 5425780.5  9239999. ]\n",
            " [ 3850751.5  3150000. ]\n",
            " [ 9152439.   9800000. ]\n",
            " [ 9037702.   7035000. ]\n",
            " [ 3262698.5  2380000. ]\n",
            " [ 5063181.   3080000.2]\n",
            " [ 4196942.5  3640000. ]\n",
            " [ 3526416.2  4410000. ]\n",
            " [ 5116282.   6860000.5]\n",
            " [ 3068050.8  3150000. ]\n",
            " [ 7669817.   9309999. ]\n",
            " [ 3474280.5  3990000. ]\n",
            " [ 3871711.5  4473000. ]\n",
            " [ 3384220.   3325000. ]\n",
            " [ 7114890.   4970000. ]\n",
            " [ 7716501.   5390000. ]\n",
            " [ 3900331.5  4025000. ]\n",
            " [ 3232862.2  3359999.8]\n",
            " [ 6132693.   6475000. ]\n",
            " [ 5691544.   2590000. ]\n",
            " [ 4882724.   5810000. ]\n",
            " [ 3895664.2  2870000. ]\n",
            " [ 3437590.8  4060000. ]\n",
            " [ 4270840.5  3570000. ]\n",
            " [ 3716786.   4403000. ]\n",
            " [ 3595169.2  5110000. ]\n",
            " [ 3227611.   3500000. ]\n",
            " [ 4892714.5  4900000. ]\n",
            " [ 5332831.   5145000. ]\n",
            " [ 9302969.  10849999. ]\n",
            " [ 4050729.   3815000.2]\n",
            " [ 4724324.   4690000. ]\n",
            " [ 4529682.   3640000. ]\n",
            " [ 4223272.   3290000. ]\n",
            " [ 6851977.5  7420000. ]\n",
            " [ 6867672.   8400000. ]\n",
            " [ 2876232.8  2940000. ]\n",
            " [ 3238102.8  3150000. ]\n",
            " [ 6086312.5  6230000. ]\n",
            " [ 4904541.5  4620000. ]\n",
            " [ 5299357.5  6019999.5]\n",
            " [ 4066144.2  3500000. ]\n",
            " [ 7298494.   6195000.5]\n",
            " [ 4866624.   3920000. ]\n",
            " [ 5876993.   5740000. ]\n",
            " [ 3113423.2  1750000. ]\n",
            " [ 7491427.5  5600000. ]\n",
            " [ 7910463.5  6930000. ]\n",
            " [ 5378878.5  5215000. ]\n",
            " [ 3076244.5  2450000. ]\n",
            " [ 5473031.   6230000. ]\n",
            " [ 4898171.   3150000. ]\n",
            " [ 4192367.   3640000. ]\n",
            " [ 4187222.8  3605000. ]\n",
            " [ 7167342.   5775000. ]\n",
            " [ 7064239.5  5873000. ]\n",
            " [ 4990654.5  4060000. ]\n",
            " [ 4908637.   3780000.2]\n",
            " [ 3638933.5  2275000. ]]\n"
          ]
        }
      ]
    },
    {
      "cell_type": "markdown",
      "source": [
        "# 8.visualize the results"
      ],
      "metadata": {
        "id": "cX3M3Q3_ju2C"
      }
    },
    {
      "cell_type": "markdown",
      "source": [
        "Let's visualize the y_pred (predicted prices of houses) and y_test (actual prices of houses) on a graph"
      ],
      "metadata": {
        "id": "B4Gx_tP3okmr"
      }
    },
    {
      "cell_type": "code",
      "source": [
        "plt.figure(figsize=(10, 6))\n",
        "plt.plot(y_test, label='Actual Values')\n",
        "plt.plot(y_pred, label='Predicted Values', alpha=0.7)\n",
        "plt.title('Comparison of Actual and Predicted Values')\n",
        "plt.xlabel('Sample index')\n",
        "plt.ylabel('Value of y')\n",
        "plt.legend()\n",
        "plt.show()"
      ],
      "metadata": {
        "colab": {
          "base_uri": "https://localhost:8080/",
          "height": 564
        },
        "id": "U8xvBZbNj2J-",
        "outputId": "c2435671-d8f8-4110-fe5c-0be79168c564"
      },
      "execution_count": null,
      "outputs": [
        {
          "output_type": "display_data",
          "data": {
            "text/plain": [
              "<Figure size 1000x600 with 1 Axes>"
            ],
            "image/png": "[encoded data removed]"
          },
          "metadata": {}
        }
      ]
    }
  ],
  "metadata": {
    "colab": {
      "provenance": [],
      "authorship_tag": "ABX9TyNlA6CGl8JGWEsvbVXkt2lj",
      "include_colab_link": true
    },
    "kernelspec": {
      "display_name": "Python 3",
      "name": "python3"
    },
    "language_info": {
      "name": "python"
    }
  },
  "nbformat": 4,
  "nbformat_minor": 0
}